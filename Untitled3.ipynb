{
  "nbformat": 4,
  "nbformat_minor": 0,
  "metadata": {
    "colab": {
      "name": "Untitled3.ipynb",
      "provenance": [],
      "collapsed_sections": [],
      "authorship_tag": "ABX9TyPIJHrFqDTlRwFNKKmPU6Ib",
      "include_colab_link": true
    },
    "kernelspec": {
      "name": "python3",
      "display_name": "Python 3"
    }
  },
  "cells": [
    {
      "cell_type": "markdown",
      "metadata": {
        "id": "view-in-github",
        "colab_type": "text"
      },
      "source": [
        "<a href=\"https://colab.research.google.com/github/amrutheswari/Assignment-5/blob/master/Untitled3.ipynb\" target=\"_parent\"><img src=\"https://colab.research.google.com/assets/colab-badge.svg\" alt=\"Open In Colab\"/></a>"
      ]
    },
    {
      "cell_type": "code",
      "metadata": {
        "id": "y6W5m0RDt_fv",
        "colab_type": "code",
        "colab": {
          "base_uri": "https://localhost:8080/",
          "height": 50
        },
        "outputId": "51332b0c-b88e-4b40-96a3-3b8cd847cab5"
      },
      "source": [
        "#Python program to find area of a circle using math function.\n",
        "import math\n",
        "r=float(input(\"enter the Area of circle\"))\n",
        "Area=math.pi*r*r\n",
        "print(\"Area of circle is:%2f\"%area)"
      ],
      "execution_count": null,
      "outputs": [
        {
          "output_type": "stream",
          "text": [
            "enter the Area of circle5\n",
            "Area of circle is:1963.495408\n"
          ],
          "name": "stdout"
        }
      ]
    },
    {
      "cell_type": "code",
      "metadata": {
        "id": "ST6XX4F_ur4v",
        "colab_type": "code",
        "colab": {
          "base_uri": "https://localhost:8080/",
          "height": 67
        },
        "outputId": "2b34b414-98b0-493b-dda9-0849c74c0143"
      },
      "source": [
        "#a program to find Area of Regular Polygonusing math function.\n",
        "from math import tan, pi\n",
        "n_sides = int(input(\"Input number of sides: \"))\n",
        "s_length = float(input(\"Input the length of a side: \"))\n",
        "p_area = n_sides * (s_length ** 2) / (4 * tan(pi / n_sides))\n",
        "print(\"The area of the polygon is: \",p_area)"
      ],
      "execution_count": null,
      "outputs": [
        {
          "output_type": "stream",
          "text": [
            "Input number of sides: 8\n",
            "Input the length of a side: 6\n",
            "The area of the polygon is:  173.82337649086284\n"
          ],
          "name": "stdout"
        }
      ]
    },
    {
      "cell_type": "code",
      "metadata": {
        "id": "-SxzTgNMvm7C",
        "colab_type": "code",
        "colab": {
          "base_uri": "https://localhost:8080/",
          "height": 50
        },
        "outputId": "40c4266b-2b01-4781-98d5-4076e4678a29"
      },
      "source": [
        "#a program to find Area of a Segment of a Circle Formulausing math function.\n",
        "import math \n",
        "pi = 3.14159\n",
        "def area_of_segment(radius, angle): \n",
        "    area_of_sector = pi *  (radius * radius)  * (angle / 360) \n",
        "    area_of_triangle = 1 / 2 *  (radius * radius) *math.sin((angle * pi) / 180)\n",
        "    return area_of_sector - area_of_triangle; \n",
        "radius = 10.0\n",
        "angle = 90.0\n",
        "print(\"Area of minor segment =\", area_of_segment(radius, angle)) \n",
        "print(\"Area of major segment =\", area_of_segment(radius, (360 - angle))) "
      ],
      "execution_count": null,
      "outputs": [
        {
          "output_type": "stream",
          "text": [
            "Area of minor segment = 28.53975000004401\n",
            "Area of major segment = 285.6192499996039\n"
          ],
          "name": "stdout"
        }
      ]
    },
    {
      "cell_type": "code",
      "metadata": {
        "id": "QG8btwiK7OgQ",
        "colab_type": "code",
        "colab": {
          "base_uri": "https://localhost:8080/",
          "height": 50
        },
        "outputId": "4bf6f883-9760-4818-bb22-ca53353289b9"
      },
      "source": [
        "#python program to shuffle list l1=[100,1,2,3,30,40,”hai”,”hello”].\n",
        "import random\n",
        "list = ['100','1','2','3','30','40',\"hai\",\"hello\"];\n",
        "random.shuffle(list)\n",
        "print (\" list : \",  list)\n",
        "random.shuffle(list)\n",
        "print (\"shuffled list : \",  list)"
      ],
      "execution_count": 27,
      "outputs": [
        {
          "output_type": "stream",
          "text": [
            "Reshuffled list :  ['1', '40', 'hai', 'hello', '30', '2', '3', '100']\n",
            "Reshuffled list :  ['40', 'hello', '3', '100', 'hai', '2', '1', '30']\n"
          ],
          "name": "stdout"
        }
      ]
    },
    {
      "cell_type": "code",
      "metadata": {
        "id": "lKKaIHQx_eVl",
        "colab_type": "code",
        "colab": {
          "base_uri": "https://localhost:8080/",
          "height": 34
        },
        "outputId": "488b80d5-fa8d-4a81-d623-c15d94daac6c"
      },
      "source": [
        "#a program to generate random numbers between 1,10000 and difference between each random number is 50.\n",
        "import random\n",
        "num=random.randrange(1,1000,50)\n",
        "print(\"random number: \",num)"
      ],
      "execution_count": 73,
      "outputs": [
        {
          "output_type": "stream",
          "text": [
            "random number:  651\n"
          ],
          "name": "stdout"
        }
      ]
    },
    {
      "cell_type": "code",
      "metadata": {
        "id": "HkhPGjaOCxJw",
        "colab_type": "code",
        "colab": {
          "base_uri": "https://localhost:8080/",
          "height": 34
        },
        "outputId": "22fa104e-e692-470a-915b-b663e20c750f"
      },
      "source": [
        "#python program by using math module to find\n",
        "#i.\tSin600\n",
        "import math  \n",
        "a = math.pi / 6\n",
        "print (\"The value of sine of pi / 6 is : \", end =\"\")  \n",
        "print (math.sin(a))  "
      ],
      "execution_count": 28,
      "outputs": [
        {
          "output_type": "stream",
          "text": [
            "The value of sine of pi / 6 is : 0.49999999999999994\n"
          ],
          "name": "stdout"
        }
      ]
    },
    {
      "cell_type": "code",
      "metadata": {
        "id": "1_5ej_7dDRAN",
        "colab_type": "code",
        "colab": {
          "base_uri": "https://localhost:8080/",
          "height": 34
        },
        "outputId": "d311a600-22b7-4243-fcfc-86536bed9bef"
      },
      "source": [
        "#ii.\tcos(pi)\n",
        "import math  \n",
        "a = math.pi / 6\n",
        "print (\"The value of cosine of pi / 6 is : \", end =\"\")  \n",
        "print (math.cos(a))  "
      ],
      "execution_count": 29,
      "outputs": [
        {
          "output_type": "stream",
          "text": [
            "The value of cosine of pi / 6 is : 0.8660254037844387\n"
          ],
          "name": "stdout"
        }
      ]
    },
    {
      "cell_type": "code",
      "metadata": {
        "id": "OSM3iWY3EONG",
        "colab_type": "code",
        "colab": {
          "base_uri": "https://localhost:8080/",
          "height": 34
        },
        "outputId": "6e4af083-a4ca-4bdd-9e2e-7b8d9551a269"
      },
      "source": [
        "#iii.\ttan900\n",
        "import math  \n",
        "a = math.pi / 6\n",
        "print (\"The value of tangent of pi / 6 is : \", end =\"\")  \n",
        "print (math.tan(a))  "
      ],
      "execution_count": 30,
      "outputs": [
        {
          "output_type": "stream",
          "text": [
            "The value of tangent of pi / 6 is : 0.5773502691896257\n"
          ],
          "name": "stdout"
        }
      ]
    },
    {
      "cell_type": "code",
      "metadata": {
        "id": "OADe-3QoEnMA",
        "colab_type": "code",
        "colab": {
          "base_uri": "https://localhost:8080/",
          "height": 34
        },
        "outputId": "3aa5deaa-0be8-454b-d50a-60cf50c5352a"
      },
      "source": [
        "#iv.\tangle of sin(0.8660254037844386)\n",
        "import math\n",
        "print(math.sin(math.pi/3))"
      ],
      "execution_count": 35,
      "outputs": [
        {
          "output_type": "stream",
          "text": [
            "0.8660254037844386\n"
          ],
          "name": "stdout"
        }
      ]
    },
    {
      "cell_type": "code",
      "metadata": {
        "id": "8sRSDbNEG5nS",
        "colab_type": "code",
        "colab": {
          "base_uri": "https://localhost:8080/",
          "height": 34
        },
        "outputId": "c92ce09c-16a1-4883-c520-af85612c9b93"
      },
      "source": [
        "#v.\t5^8\n",
        "import math\n",
        "a=5^8\n",
        "print(a)\n"
      ],
      "execution_count": 39,
      "outputs": [
        {
          "output_type": "stream",
          "text": [
            "13\n"
          ],
          "name": "stdout"
        }
      ]
    },
    {
      "cell_type": "code",
      "metadata": {
        "id": "gO7UgxyFNlqo",
        "colab_type": "code",
        "colab": {
          "base_uri": "https://localhost:8080/",
          "height": 34
        },
        "outputId": "ba7a2654-b625-47f6-b1e5-c83ed6a5794f"
      },
      "source": [
        "#vi.\tSquare root of 400\n",
        "math.sqrt(400)"
      ],
      "execution_count": 36,
      "outputs": [
        {
          "output_type": "execute_result",
          "data": {
            "text/plain": [
              "20.0"
            ]
          },
          "metadata": {
            "tags": []
          },
          "execution_count": 36
        }
      ]
    },
    {
      "cell_type": "code",
      "metadata": {
        "id": "vH-fNHexNu2H",
        "colab_type": "code",
        "colab": {
          "base_uri": "https://localhost:8080/",
          "height": 34
        },
        "outputId": "053e9dc9-757d-4ea6-a52e-947e646281ec"
      },
      "source": [
        "#vii.\tThe value of 5^e\n",
        "import math\n",
        "x=5\n",
        "b=math.e**x\n",
        "print(b)"
      ],
      "execution_count": 60,
      "outputs": [
        {
          "output_type": "stream",
          "text": [
            "148.41315910257657\n"
          ],
          "name": "stdout"
        }
      ]
    },
    {
      "cell_type": "code",
      "metadata": {
        "id": "Vyv0Xa8kbsfy",
        "colab_type": "code",
        "colab": {
          "base_uri": "https://localhost:8080/",
          "height": 34
        },
        "outputId": "103cc49e-25c1-4a59-c953-7fc1eb5c054c"
      },
      "source": [
        "#viii.\tThe value of Log(1024), base 2\n",
        "import math\n",
        "print (\"Logarithm base 2 of 1024 is : \", end=\"\") \n",
        "print (math.log2(1024)) "
      ],
      "execution_count": 61,
      "outputs": [
        {
          "output_type": "stream",
          "text": [
            "Logarithm base 2 of 1024 is : 10.0\n"
          ],
          "name": "stdout"
        }
      ]
    },
    {
      "cell_type": "code",
      "metadata": {
        "id": "v0oAPNkgcXVv",
        "colab_type": "code",
        "colab": {
          "base_uri": "https://localhost:8080/",
          "height": 34
        },
        "outputId": "9287af61-5799-4557-8f7a-2606ec915954"
      },
      "source": [
        "#ix.\tThe value of Log(1024), base 10\n",
        "import math\n",
        "print (\"Logarithm base 10 of 1024 is : \", end=\"\") \n",
        "print (math.log10(1024)) \n"
      ],
      "execution_count": 62,
      "outputs": [
        {
          "output_type": "stream",
          "text": [
            "Logarithm base 10 of 1024 is : 3.010299956639812\n"
          ],
          "name": "stdout"
        }
      ]
    },
    {
      "cell_type": "code",
      "metadata": {
        "id": "O4pgPuK4cjNw",
        "colab_type": "code",
        "colab": {
          "base_uri": "https://localhost:8080/",
          "height": 50
        },
        "outputId": "8bbdfdee-ef23-4bbf-d043-6c923891c61e"
      },
      "source": [
        "#x.\tThe Floor and Ceiling value of 23.56 \n",
        "import math     \n",
        "print(\"math.floor(23.56) : \", math.floor(23.56))\n",
        "print(\"math.ceil(23.56) : \", math.ceil(23.56)) "
      ],
      "execution_count": 64,
      "outputs": [
        {
          "output_type": "stream",
          "text": [
            "math.floor(23.56) :  23\n",
            "math.ceil(23.56) :  24\n"
          ],
          "name": "stdout"
        }
      ]
    }
  ]
}